{
  "nbformat": 4,
  "nbformat_minor": 0,
  "metadata": {
    "colab": {
      "provenance": []
    },
    "kernelspec": {
      "name": "python3",
      "display_name": "Python 3"
    },
    "language_info": {
      "name": "python"
    }
  },
  "cells": [
    {
      "cell_type": "code",
      "source": [
        "from nltk.stem.snowball import SnowballStemmer\n"
      ],
      "metadata": {
        "id": "cp8MTuJ9_hm9"
      },
      "execution_count": 8,
      "outputs": []
    },
    {
      "cell_type": "code",
      "source": [
        "import nltk\n",
        "nltk.download('snowball_data')\n"
      ],
      "metadata": {
        "colab": {
          "base_uri": "https://localhost:8080/"
        },
        "id": "EqjlNqTB_jfy",
        "outputId": "53ef76e9-3568-4a04-8bca-9ae585eec9ed"
      },
      "execution_count": 9,
      "outputs": [
        {
          "output_type": "stream",
          "name": "stderr",
          "text": [
            "[nltk_data] Downloading package snowball_data to /root/nltk_data...\n"
          ]
        },
        {
          "output_type": "execute_result",
          "data": {
            "text/plain": [
              "True"
            ]
          },
          "metadata": {},
          "execution_count": 9
        }
      ]
    },
    {
      "cell_type": "code",
      "execution_count": 6,
      "metadata": {
        "id": "UM4ZuiE4-BBj"
      },
      "outputs": [],
      "source": [
        "import requests\n",
        "from bs4 import BeautifulSoup\n",
        "\n",
        "# Collect error messages from Stack Overflow\n",
        "def scrape_errors():\n",
        "    url = 'https://stackoverflow.com/questions/tagged/compiler-errors'\n",
        "    response = requests.get(url)\n",
        "    soup = BeautifulSoup(response.content, 'html.parser')\n",
        "    error_messages = []\n",
        "    for item in soup.select('.question-summary'):\n",
        "        title = item.select_one('.question-hyperlink').text\n",
        "        body = item.select_one('.excerpt').text\n",
        "        error_messages.append((title + body).strip())\n",
        "    return error_messages\n",
        "\n",
        "# Save error messages to a file\n",
        "def save_errors(error_messages):\n",
        "    with open('error_messages.txt', 'w') as f:\n",
        "        for error in error_messages:\n",
        "            f.write(error + '\\n')\n",
        "\n",
        "if __name__ == '__main__':\n",
        "    error_messages = scrape_errors()\n",
        "    save_errors(error_messages)\n"
      ]
    },
    {
      "cell_type": "code",
      "source": [
        "import re\n",
        "\n",
        "def preprocess_text(text):\n",
        "    # Remove non-alphanumeric characters\n",
        "    text = re.sub(r'[^a-zA-Z0-9\\s]', '', text)\n",
        "    \n",
        "    # Convert to lowercase\n",
        "    text = text.lower()\n",
        "    \n",
        "    # Tokenize the text\n",
        "    tokens = text.split()\n",
        "    \n",
        "    # Remove stop words\n",
        "    stop_words = set(['the', 'and', 'in', 'a', 'to', 'of', 'for', 'is', 'this', 'that'])\n",
        "    tokens = [token for token in tokens if token not in stop_words]\n",
        "    \n",
        "    # Stem the tokens\n",
        "    stemmer = SnowballStemmer('english')\n",
        "    tokens = [stemmer.stem(token) for token in tokens]\n",
        "    \n",
        "    # Join the tokens back into a string\n",
        "    text = ' '.join(tokens)\n",
        "    \n",
        "    return text\n",
        "\n",
        "if __name__ == '__main__':\n",
        "    # Load error messages from file\n",
        "    with open('error_message.txt', 'r') as f:\n",
        "        error_messages = f.readlines()\n",
        "    \n",
        "    # Preprocess the error messages\n",
        "    preprocessed_messages = [preprocess_text(message) for message in error_messages]\n",
        "    \n",
        "    # Print the preprocessed messages\n",
        "    for message in preprocessed_messages:\n",
        "        print(message)\n"
      ],
      "metadata": {
        "colab": {
          "base_uri": "https://localhost:8080/"
        },
        "id": "pBTBZG4J-EMT",
        "outputId": "c34fe16c-cd5f-44f2-eb47-2e60a4857a0b"
      },
      "execution_count": 10,
      "outputs": [
        {
          "output_type": "stream",
          "name": "stdout",
          "text": [
            "error expect asm or attribut befor token\n",
            "error invalid convers from int const char fpermiss\n",
            "error use undeclar identifi variablenam\n",
            "warn control reach end nonvoid function wreturntyp\n"
          ]
        }
      ]
    },
    {
      "cell_type": "markdown",
      "source": [],
      "metadata": {
        "id": "RclEhosG-9p7"
      }
    }
  ]
}